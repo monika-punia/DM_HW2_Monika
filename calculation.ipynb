{
  "cells": [
    {
      "cell_type": "markdown",
      "id": "23fe8f92",
      "metadata": {},
      "source": [
        "#### Monika Punia-mp23p"
      ]
    },
    {
      "cell_type": "markdown",
      "id": "753436e3",
      "metadata": {
        "id": "753436e3"
      },
      "source": [
        "## Question 1"
      ]
    },
    {
      "cell_type": "code",
      "execution_count": 83,
      "id": "58d909e3",
      "metadata": {
        "colab": {
          "base_uri": "https://localhost:8080/"
        },
        "id": "58d909e3",
        "outputId": "63e82c8d-27bc-4c58-9142-de7b9dc70aab"
      },
      "outputs": [
        {
          "name": "stdout",
          "output_type": "stream",
          "text": [
            "Information gain for Tobacco: 0.2780719051126377\n",
            "Information gain for Radon: 0.2364527976600279\n",
            "Information gain for Chronic Cough: 0.034851554559677034\n",
            "Information gain for Weight Loss: 0.02904940554533142\n"
          ]
        }
      ],
      "source": [
        "import numpy as np\n",
        "\n",
        "def entropy(labels):\n",
        "    \"\"\"Computes entropy of a list of binary labels (0 and 1).\"\"\"\n",
        "    n_labels = len(labels)\n",
        "    if n_labels <= 1:\n",
        "        return 0\n",
        "    counts = np.bincount(labels)\n",
        "    probs = counts / n_labels\n",
        "    n_classes = np.count_nonzero(probs)\n",
        "    if n_classes <= 1:\n",
        "        return 0\n",
        "    return -np.sum(probs * np.log2(probs))\n",
        "\n",
        "def information_gain(data, split_attribute_name, target_name):\n",
        "    \"\"\"Calculates the information gain of a dataset. This function takes three parameters:\n",
        "    1. data = The dataset for whose feature the IG should be calculated\n",
        "    2. split_attribute_name = the name of the feature for which the information gain should be calculated\n",
        "    3. target_name = the name of the target feature. The entropy of the whole dataset will be calculated against this target feature.\"\"\"\n",
        "    # Calculate the entropy of the total dataset\n",
        "    total_entropy = entropy(data[target_name])\n",
        "\n",
        "    # Calculate the values and the corresponding counts for the split attribute\n",
        "    vals, counts= np.unique(data[split_attribute_name], return_counts=True)\n",
        "\n",
        "    # Calculate the weighted entropy\n",
        "    Weighted_Entropy = np.sum([(counts[i]/np.sum(counts))*entropy(data.where(data[split_attribute_name]==vals[i]).dropna()[target_name]) for i in range(len(vals))])\n",
        "\n",
        "    # Calculate the information gain\n",
        "    Information_Gain = total_entropy - Weighted_Entropy\n",
        "    return Information_Gain\n",
        "\n",
        "# Convert your dataset into a pandas DataFrame\n",
        "import pandas as pd\n",
        "\n",
        "data = pd.DataFrame({\n",
        "    'Tobacco': ['Yes', 'Yes', 'Yes', 'Yes', 'No', 'Yes', 'No', 'No', 'No', 'No'],\n",
        "    'Radon': ['Yes', 'No', 'No', 'No', 'Yes', 'No', 'No', 'No', 'No', 'No'],\n",
        "    'Chronic Cough': ['Yes', 'Yes', 'Yes', 'Yes', 'No', 'No', 'Yes', 'Yes', 'Yes', 'No'],\n",
        "    'Weight Loss': ['No', 'No', 'Yes', 'Yes', 'Yes', 'No', 'No', 'Yes', 'No', 'Yes'],\n",
        "    'Lung Cancer': ['Yes', 'Yes', 'Yes', 'Yes', 'Yes', 'No', 'No', 'No', 'No', 'No']\n",
        "})\n",
        "\n",
        "# Convert 'Yes'/'No' labels to 1/0\n",
        "data['Lung Cancer'] = data['Lung Cancer'].map({'Yes': 1, 'No': 0})\n",
        "\n",
        "# Calculate information gain for each attribute\n",
        "for attribute in ['Tobacco', 'Radon', 'Chronic Cough', 'Weight Loss']:\n",
        "    print(f\"Information gain for {attribute}: {information_gain(data, attribute, 'Lung Cancer')}\")"
      ]
    },
    {
      "cell_type": "code",
      "execution_count": 84,
      "id": "6329363c",
      "metadata": {
        "colab": {
          "base_uri": "https://localhost:8080/"
        },
        "id": "6329363c",
        "outputId": "e58fc379-dfd4-464e-c74a-fc7fd5a7eeea"
      },
      "outputs": [
        {
          "name": "stdout",
          "output_type": "stream",
          "text": [
            "Information gain for 'Tobacco' = 'Yes' subset:\n",
            "Information gain for Radon: 0.07290559532005603\n",
            "Information gain for Chronic Cough: 0.7219280948873623\n",
            "Information gain for Weight Loss: 0.17095059445466865\n",
            "\n",
            "Information gain for 'Tobacco' = 'No' subset:\n",
            "Information gain for Radon: 0.7219280948873623\n",
            "Information gain for Chronic Cough: 0.3219280948873623\n",
            "Information gain for Weight Loss: 0.17095059445466865\n",
            "\n",
            "Information gain for 'Tobacco' = 'Yes' and 'Chronic Cough' = 'Yes' subset:\n",
            "Information gain for Radon: 0.0\n",
            "Information gain for Weight Loss: 0.0\n",
            "\n",
            "Information gain for 'Tobacco' = 'Yes' and 'Chronic Cough' = 'No' subset:\n",
            "Information gain for Radon: 0.0\n",
            "Information gain for Weight Loss: 0.0\n",
            "\n",
            "Information gain for 'Tobacco' = 'No' and 'Radon' = 'Yes' subset:\n",
            "Information gain for Chronic Cough: 0.0\n",
            "Information gain for Weight Loss: 0.0\n",
            "\n",
            "Information gain for 'Tobacco' = 'No' and 'Radon' = 'No' subset:\n",
            "Information gain for Chronic Cough: 0.0\n",
            "Information gain for Weight Loss: 0.0\n"
          ]
        }
      ],
      "source": [
        "# Subset for 'Tobacco' = 'Yes'\n",
        "data_tobacco_yes = data[data['Tobacco'] == 'Yes']\n",
        "\n",
        "# Subset for 'Tobacco' = 'No'\n",
        "data_tobacco_no = data[data['Tobacco'] == 'No']\n",
        "\n",
        "# Calculate information gain for each attribute in the 'Tobacco' = 'Yes' subset\n",
        "print(\"Information gain for 'Tobacco' = 'Yes' subset:\")\n",
        "for attribute in ['Radon', 'Chronic Cough', 'Weight Loss']:\n",
        "    print(f\"Information gain for {attribute}: {information_gain(data_tobacco_yes, attribute, 'Lung Cancer')}\")\n",
        "\n",
        "# Calculate information gain for each attribute in the 'Tobacco' = 'No' subset\n",
        "print(\"\\nInformation gain for 'Tobacco' = 'No' subset:\")\n",
        "for attribute in ['Radon', 'Chronic Cough', 'Weight Loss']:\n",
        "    print(f\"Information gain for {attribute}: {information_gain(data_tobacco_no, attribute, 'Lung Cancer')}\")\n",
        "\n",
        "# Third level for 'Tobacco' = 'Yes' subset\n",
        "# Since 'Chronic Cough' has the highest information gain for 'Tobacco' = 'Yes' subset,\n",
        "# we further split based on 'Chronic Cough'\n",
        "data_tobacco_yes_cough_yes = data_tobacco_yes[data_tobacco_yes['Chronic Cough'] == 'Yes']\n",
        "data_tobacco_yes_cough_no = data_tobacco_yes[data_tobacco_yes['Chronic Cough'] == 'No']\n",
        "\n",
        "# Calculate information gain for each attribute in the 'Tobacco' = 'Yes' and 'Chronic Cough' = 'Yes' subset\n",
        "print(\"\\nInformation gain for 'Tobacco' = 'Yes' and 'Chronic Cough' = 'Yes' subset:\")\n",
        "for attribute in ['Radon', 'Weight Loss']:\n",
        "    print(f\"Information gain for {attribute}: {information_gain(data_tobacco_yes_cough_yes, attribute, 'Lung Cancer')}\")\n",
        "\n",
        "# Calculate information gain for each attribute in the 'Tobacco' = 'Yes' and 'Chronic Cough' = 'No' subset\n",
        "print(\"\\nInformation gain for 'Tobacco' = 'Yes' and 'Chronic Cough' = 'No' subset:\")\n",
        "for attribute in ['Radon', 'Weight Loss']:\n",
        "    print(f\"Information gain for {attribute}: {information_gain(data_tobacco_yes_cough_no, attribute, 'Lung Cancer')}\")\n",
        "\n",
        "# Third level for 'Tobacco' = 'No' subset\n",
        "# Since 'Radon' has the highest information gain for 'Tobacco' = 'No' subset,\n",
        "# we further split based on 'Radon'\n",
        "data_tobacco_no_radon_yes = data_tobacco_no[data_tobacco_no['Radon'] == 'Yes']\n",
        "data_tobacco_no_radon_no = data_tobacco_no[data_tobacco_no['Radon'] == 'No']\n",
        "\n",
        "# Calculate information gain for each attribute in the 'Tobacco' = 'No' and 'Radon' = 'Yes' subset\n",
        "print(\"\\nInformation gain for 'Tobacco' = 'No' and 'Radon' = 'Yes' subset:\")\n",
        "for attribute in ['Chronic Cough', 'Weight Loss']:\n",
        "    print(f\"Information gain for {attribute}: {information_gain(data_tobacco_no_radon_yes, attribute, 'Lung Cancer')}\")\n",
        "\n",
        "# Calculate information gain for each attribute in the 'Tobacco' = 'No' and 'Radon' = 'No' subset\n",
        "print(\"\\nInformation gain for 'Tobacco' = 'No' and 'Radon' = 'No' subset:\")\n",
        "for attribute in ['Chronic Cough', 'Weight Loss']:\n",
        "    print(f\"Information gain for {attribute}: {information_gain(data_tobacco_no_radon_no, attribute, 'Lung Cancer')}\")\n"
      ]
    },
    {
      "cell_type": "code",
      "execution_count": 85,
      "id": "0UiyjW_pFgTL",
      "metadata": {
        "colab": {
          "base_uri": "https://localhost:8080/"
        },
        "id": "0UiyjW_pFgTL",
        "outputId": "4eba46ab-6350-4d67-ca45-6197ea469c86"
      },
      "outputs": [
        {
          "name": "stdout",
          "output_type": "stream",
          "text": [
            "0.0\n"
          ]
        }
      ],
      "source": [
        "Samples = 10\n",
        "Missclassfication = 0\n",
        "Train_error = Missclassfication/Samples\n",
        "print(Train_error)"
      ]
    },
    {
      "cell_type": "markdown",
      "id": "fe123d1e",
      "metadata": {
        "id": "fe123d1e"
      },
      "source": [
        "## Question 2"
      ]
    },
    {
      "cell_type": "markdown",
      "id": "b9c0d035",
      "metadata": {
        "id": "b9c0d035"
      },
      "source": [
        "### 2 A"
      ]
    },
    {
      "cell_type": "code",
      "execution_count": 86,
      "id": "gQNVqtKQlAC5",
      "metadata": {
        "id": "gQNVqtKQlAC5"
      },
      "outputs": [],
      "source": [
        "import math as m\n",
        "def log(x):\n",
        "    try:\n",
        "        return m.log(x,2)\n",
        "    except:\n",
        "        return 0"
      ]
    },
    {
      "cell_type": "code",
      "execution_count": 87,
      "id": "65S-c0dDlAGO",
      "metadata": {
        "id": "65S-c0dDlAGO"
      },
      "outputs": [],
      "source": [
        "def entropy(l):\n",
        "    entr=0\n",
        "    for i in l:\n",
        "        entr+=i*log(i)\n",
        "    return -entr"
      ]
    },
    {
      "cell_type": "code",
      "execution_count": 88,
      "id": "18fyPGGNGGUD",
      "metadata": {
        "id": "18fyPGGNGGUD"
      },
      "outputs": [],
      "source": [
        "import math\n",
        "\n",
        "def entropy(p):\n",
        "    return -p * math.log2(p) if p != 0 else 0"
      ]
    },
    {
      "cell_type": "code",
      "execution_count": 89,
      "id": "8ad4e564",
      "metadata": {
        "colab": {
          "base_uri": "https://localhost:8080/"
        },
        "id": "8ad4e564",
        "outputId": "37cb4c2e-bd45-4a52-f05b-80425522b9aa"
      },
      "outputs": [
        {
          "data": {
            "text/plain": [
              "1.4253642047367425"
            ]
          },
          "execution_count": 89,
          "metadata": {},
          "output_type": "execute_result"
        }
      ],
      "source": [
        "parent_entropy=-(0.41*log(0.41)+0.46*log(0.46)+0.13*log(0.13))\n",
        "parent_entropy"
      ]
    },
    {
      "cell_type": "markdown",
      "id": "3d9bfaae",
      "metadata": {
        "id": "3d9bfaae"
      },
      "source": [
        "### 2 B"
      ]
    },
    {
      "cell_type": "code",
      "execution_count": 90,
      "id": "52ee8756",
      "metadata": {
        "colab": {
          "base_uri": "https://localhost:8080/"
        },
        "id": "52ee8756",
        "outputId": "272bb472-73f5-435c-b752-6b323f01027b"
      },
      "outputs": [
        {
          "name": "stdout",
          "output_type": "stream",
          "text": [
            "x_2_left: 0.7219280948873625\n",
            "x_2_right: 1.3794821565051398\n",
            "x_2_weighted: 1.2479713441815845\n",
            "Info_gain_x_2: 0.17739286055515802\n",
            "\n",
            "x_7_left: 1.1503926143859857\n",
            "x_7_right: 0.8812908992306927\n",
            "x_7_weighted: 1.0696620998393978\n",
            "Info_gain_x_7: 0.3557021048973448\n",
            "\n",
            "y_6_left: 1.1812908992306925\n",
            "y_6_right: 0.9219280948873625\n",
            "y_6_weighted: 1.0775457774933606\n",
            "Info_gain_y_6: 0.34781842724338197\n"
          ]
        }
      ],
      "source": [
        "#(b)\n",
        "\n",
        "# For x <= 0.2\n",
        "\n",
        "x_2_left = -(0.04/0.2)*(math.log((0.04/0.2),2))-(0.16/0.2)*(math.log((0.16/0.2),2))\n",
        "\n",
        "x_2_right= -((0.41/0.8)*math.log((0.41/0.8),2) + (0.3/0.8) * math.log((0.3/0.8),2) + (0.09/0.8) * math.log((0.09/0.8),2))\n",
        "\n",
        "x_2_weighted = 0.2*x_2_left + 0.8 *x_2_right\n",
        "\n",
        "Info_gain_x_2=parent_entropy- x_2_weighted\n",
        "\n",
        "# For x <= 0.7\n",
        "\n",
        "x_7_left = -((0.2 / 0.7)*(math.log((0.2 / 0.7),2))+(0.459999 / 0.7)*(math.log((0.459999 / 0.7),2))+(0.04/0.7)*(math.log((0.04/0.7),2)))\n",
        "\n",
        "x_7_right= -((0.21/0.3)*(math.log((0.21/0.3),2))+(0.09/0.3)*(math.log((0.09/0.3),2)))\n",
        "\n",
        "x_7_weighted = 0.7*x_7_left  + 0.3 *x_7_right\n",
        "\n",
        "Info_gain_x_7=parent_entropy- x_7_weighted\n",
        "\n",
        "# For y <= 0.6\n",
        "\n",
        "\n",
        "y_6_left = -((0.09 / 0.6)*(math.log((0.09 / 0.6),2))+(0.42/0.6)*(math.log((0.42/0.6),2))+(0.09/0.6)*(math.log((0.09/0.6),2)))\n",
        "\n",
        "y_6_right= -((0.32/ 0.400000)*(math.log((0.32/ 0.400000),2))+(0.040/0.400000)*(math.log((0.040/0.400000),2))+(0.040/0.400000)*(math.log((0.040/0.400000),2)))\n",
        "\n",
        "y_6_weighted = 0.6*y_6_left  + 0.400000 *y_6_right\n",
        "\n",
        "Info_gain_y_6=parent_entropy- y_6_weighted\n",
        "\n",
        "print('x_2_left:',x_2_left)\n",
        "print('x_2_right:',x_2_right)\n",
        "print('x_2_weighted:',x_2_weighted)\n",
        "print('Info_gain_x_2:',Info_gain_x_2)\n",
        "print()\n",
        "print('x_7_left:',x_7_left)\n",
        "print('x_7_right:',x_7_right)\n",
        "print('x_7_weighted:',x_7_weighted)\n",
        "print('Info_gain_x_7:',Info_gain_x_7)\n",
        "print()\n",
        "print('y_6_left:',y_6_left)\n",
        "print('y_6_right:',y_6_right)\n",
        "print('y_6_weighted:',y_6_weighted)\n",
        "print('Info_gain_y_6:',Info_gain_y_6)\n",
        "\n"
      ]
    },
    {
      "cell_type": "code",
      "execution_count": 91,
      "id": "_lT_1cR2GOLI",
      "metadata": {
        "id": "_lT_1cR2GOLI"
      },
      "outputs": [],
      "source": [
        "def entropy(prob):\n",
        "    entr = 0\n",
        "    for j in prob:\n",
        "        if j != 0:\n",
        "            entr += j * math.log(j, 2)\n",
        "    return -entr if entr != 0 else 0"
      ]
    },
    {
      "cell_type": "code",
      "execution_count": 92,
      "id": "ioCRgqA5GRAL",
      "metadata": {
        "colab": {
          "base_uri": "https://localhost:8080/"
        },
        "id": "ioCRgqA5GRAL",
        "outputId": "017e0444-af6e-4682-d177-7ac8b3650bb8"
      },
      "outputs": [
        {
          "name": "stdout",
          "output_type": "stream",
          "text": [
            "y_8_left: 1.4384349344259844\n",
            "y_8_right: 0.7219280948873625\n",
            "y_8_weighted: 1.2951335665182602\n",
            "Info_gain_y_8: 0.13023063821848235\n"
          ]
        }
      ],
      "source": [
        "# For y = 0.8\n",
        "\n",
        "y_8_left=entropy([0.25/0.8,0.42/0.8,0.13/0.8])\n",
        "\n",
        "\n",
        "y_8_right= entropy([0.16/0.2,0.04/0.2])\n",
        "\n",
        "\n",
        "y_8_weighted=0.8*y_8_left + 0.2*y_8_right\n",
        "\n",
        "Info_gain_y_8=parent_entropy-y_8_weighted\n",
        "\n",
        "\n",
        "print('y_8_left:',y_8_left)\n",
        "print('y_8_right:',y_8_right)\n",
        "print('y_8_weighted:',y_8_weighted)\n",
        "print('Info_gain_y_8:',Info_gain_y_8)"
      ]
    },
    {
      "cell_type": "code",
      "execution_count": 93,
      "id": "HjcX0vaZGSRo",
      "metadata": {
        "colab": {
          "base_uri": "https://localhost:8080/"
        },
        "id": "HjcX0vaZGSRo",
        "outputId": "fdcb1a9a-fcac-4d64-a504-5d583f9142e7"
      },
      "outputs": [
        {
          "name": "stdout",
          "output_type": "stream",
          "text": [
            "1.1503914187111115\n"
          ]
        }
      ],
      "source": [
        "parent_entropy_l=entropy([0.2/0.7,0.46/0.7,0.04/0.7])\n",
        "print(parent_entropy_l)"
      ]
    },
    {
      "cell_type": "code",
      "execution_count": 94,
      "id": "osvbruTzGVEy",
      "metadata": {
        "colab": {
          "base_uri": "https://localhost:8080/"
        },
        "id": "osvbruTzGVEy",
        "outputId": "760e018e-5133-443e-b0e4-0d8ae3fdcf28"
      },
      "outputs": [
        {
          "name": "stdout",
          "output_type": "stream",
          "text": [
            "Entropy for y < 0.6 (Left): 0\n",
            "Entropy for y < 0.6 (Right): 1.1488348542809168\n",
            "Total Entropy for y < 0.6: 0.32167375919865676\n",
            "Information Gain for y < 0.6: 0.8287176595124548\n",
            "Entropy for y < 0.8 (Left): 1.0270582666007908\n",
            "Entropy for y < 0.8 (Right): 0.863120568566631\n",
            "Total Entropy for y < 0.8: 0.6959895088957713\n",
            "Information Gain for y < 0.8: 0.45440190981534023\n",
            "Entropy for x < 0.2 (Left): 0.7219280948873625\n",
            "Entropy for x < 0.2 (Right): 0.9709505944546686\n",
            "Total Entropy for x < 0.2: 0.6298609162048068\n",
            "Information Gain for x < 0.2: 0.5205305025063047\n"
          ]
        }
      ],
      "source": [
        "# For y<0.6\n",
        "y06_left = entropy([1])\n",
        "print(\"Entropy for y < 0.6 (Left):\", y06_left)\n",
        "y06_right = entropy([0.2/0.28, 0.04/0.28, 0.04/0.28])\n",
        "print(\"Entropy for y < 0.6 (Right):\", y06_right)\n",
        "y06_total = 0.42 * y06_left + 0.28 * y06_right\n",
        "print(\"Total Entropy for y < 0.6:\", y06_total)\n",
        "info_gain_y06 = parent_entropy_l - y06_total\n",
        "print(\"Information Gain for y < 0.6:\", info_gain_y06)\n",
        "\n",
        "# For y<0.8\n",
        "y08_left = entropy([0.42/0.56, 0.10/0.56, 0.04/0.56])\n",
        "print(\"Entropy for y < 0.8 (Left):\", y08_left)\n",
        "y08_right = entropy([0.10/0.14, 0.04/0.14])\n",
        "print(\"Entropy for y < 0.8 (Right):\", y08_right)\n",
        "y08_total = 0.56 * y08_left + 0.14 * y08_right\n",
        "print(\"Total Entropy for y < 0.8:\", y08_total)\n",
        "info_gain_y08 = parent_entropy_l - y08_total\n",
        "print(\"Information Gain for y < 0.8:\", info_gain_y08)\n",
        "\n",
        "# For x<0.2\n",
        "x02_left = entropy([0.16/0.2, 0.04/0.2])\n",
        "print(\"Entropy for x < 0.2 (Left):\", x02_left)\n",
        "x02_right = entropy([0.2/0.5, 0.3/0.5])\n",
        "print(\"Entropy for x < 0.2 (Right):\", x02_right)\n",
        "x02_total = 0.2 * x02_left + 0.5 * x02_right\n",
        "print(\"Total Entropy for x < 0.2:\", x02_total)\n",
        "info_gain_x02 = parent_entropy_l - x02_total\n",
        "print(\"Information Gain for x < 0.2:\", info_gain_x02)\n"
      ]
    },
    {
      "cell_type": "code",
      "execution_count": 95,
      "id": "XSv6sKXmGYg3",
      "metadata": {
        "colab": {
          "base_uri": "https://localhost:8080/"
        },
        "id": "XSv6sKXmGYg3",
        "outputId": "c56c02bf-7c80-438d-88ba-ef59ccd01a7e"
      },
      "outputs": [
        {
          "name": "stdout",
          "output_type": "stream",
          "text": [
            "Entropy for right side of y < 0.6: 1.1488348542809168\n",
            "Entropy for x < 0.2 (Left): 1.0\n",
            "Entropy for x < 0.2 (Right): 0\n",
            "Total Entropy for x < 0.2: 0.08\n",
            "Information Gain for x < 0.2: 1.0688348542809167\n",
            "Entropy for y < 0.8 (Left): 0.863120568566631\n",
            "Entropy for y < 0.8 (Right): 0.863120568566631\n",
            "Total Entropy for y < 0.8: 0.2416737591986567\n",
            "Information Gain for y < 0.8: 0.9071610950822602\n"
          ]
        }
      ],
      "source": [
        "# Calculations for right side of y<0.6\n",
        "e_p_r_y06 = entropy([0.2/0.28, 0.04/0.28, 0.04/0.28])\n",
        "print(\"Entropy for right side of y < 0.6:\", e_p_r_y06)\n",
        "\n",
        "# For x<0.2\n",
        "x02_left = entropy([0.04/0.08, 0.04/0.08])\n",
        "print(\"Entropy for x < 0.2 (Left):\", x02_left)\n",
        "x02_right = entropy([0.2/0.2])\n",
        "print(\"Entropy for x < 0.2 (Right):\", x02_right)\n",
        "x02_total = 0.08 * x02_left + 0.2 * x02_right\n",
        "print(\"Total Entropy for x < 0.2:\", x02_total)\n",
        "info_gain_x02 = e_p_r_y06 - x02_total\n",
        "print(\"Information Gain for x < 0.2:\", info_gain_x02)\n",
        "\n",
        "# For y<0.8\n",
        "y08_left = entropy([0.04/0.14, 0.10/0.14])\n",
        "print(\"Entropy for y < 0.8 (Left):\", y08_left)\n",
        "y08_right = entropy([0.04/0.14, 0.10/0.14])\n",
        "print(\"Entropy for y < 0.8 (Right):\", y08_right)\n",
        "y08_total = 0.14 * y08_left + 0.14 * y08_right\n",
        "print(\"Total Entropy for y < 0.8:\", y08_total)\n",
        "info_gain_y08 = e_p_r_y06 - y08_total\n",
        "print(\"Information Gain for y < 0.8:\", info_gain_y08)\n"
      ]
    },
    {
      "cell_type": "code",
      "execution_count": 96,
      "id": "HZxXgugUGc0p",
      "metadata": {
        "colab": {
          "base_uri": "https://localhost:8080/"
        },
        "id": "HZxXgugUGc0p",
        "outputId": "e2375b53-b70c-44e0-b569-47d12cbfa9b4"
      },
      "outputs": [
        {
          "name": "stdout",
          "output_type": "stream",
          "text": [
            "Entropy for parent (Right side of tree): 0.8812908992306927\n"
          ]
        }
      ],
      "source": [
        "# Right hand side of x<0.7\n",
        "\n",
        "e_p_r1 = entropy([0.21/0.3, 0.09/0.3])\n",
        "print(\"Entropy for parent (Right side of tree):\", e_p_r1)\n",
        "\n"
      ]
    },
    {
      "cell_type": "code",
      "execution_count": 97,
      "id": "gUil9DJEGheR",
      "metadata": {
        "colab": {
          "base_uri": "https://localhost:8080/"
        },
        "id": "gUil9DJEGheR",
        "outputId": "192e962f-2d08-49cb-e149-a7f57d3dcf4a"
      },
      "outputs": [
        {
          "name": "stdout",
          "output_type": "stream",
          "text": [
            "Entropy for y<0.6 (Left side): 1.0\n",
            "Entropy for y<0.6 (Right side): 0\n",
            "Weighted entropy for y<0.6: 0.18\n",
            "Information Gain for y<0.6: 0.7012908992306928\n",
            "Entropy for y<0.3 (Left side): 0\n",
            "Entropy for y<0.3 (Right side): 0.9852281360342516\n",
            "Weighted entropy for y<0.3: 0.20689790856719284\n",
            "Information Gain for y<0.3: 0.6743929906634999\n"
          ]
        }
      ],
      "source": [
        "# For y<0.6\n",
        "y06_l = entropy([0.09/0.18, 0.09/0.18])\n",
        "print(\"Entropy for y<0.6 (Left side):\", y06_l)\n",
        "y06_r = entropy([0.12/0.12])\n",
        "print(\"Entropy for y<0.6 (Right side):\", y06_r)\n",
        "y06 = 0.18 * y06_l + 0.12 * y06_r\n",
        "print(\"Weighted entropy for y<0.6:\", y06)\n",
        "info_y06 = e_p_r1 - y06\n",
        "print(\"Information Gain for y<0.6:\", info_y06)\n",
        "\n",
        "# For y<0.3\n",
        "y03_l = entropy([0.09/0.09])\n",
        "print(\"Entropy for y<0.3 (Left side):\", y03_l)\n",
        "y03_r = entropy([0.12/0.21, 0.09/0.21])\n",
        "print(\"Entropy for y<0.3 (Right side):\", y03_r)\n",
        "y03 = 0.09 * y03_l + 0.21 * y03_r\n",
        "print(\"Weighted entropy for y<0.3:\", y03)\n",
        "info_y03 = e_p_r1 - y03\n",
        "print(\"Information Gain for y<0.3:\", info_y03)"
      ]
    },
    {
      "cell_type": "markdown",
      "id": "2966170e",
      "metadata": {
        "id": "2966170e"
      },
      "source": [
        "## Question 3"
      ]
    },
    {
      "cell_type": "code",
      "execution_count": 98,
      "id": "ce241b9e",
      "metadata": {
        "id": "ce241b9e"
      },
      "outputs": [],
      "source": [
        "def gini(l):\n",
        "    gini=0\n",
        "    for i in l:\n",
        "        gini+=i**2\n",
        "    return 1-gini"
      ]
    },
    {
      "cell_type": "markdown",
      "id": "dfa0fb83",
      "metadata": {
        "id": "dfa0fb83"
      },
      "source": [
        "#### Question A"
      ]
    },
    {
      "cell_type": "code",
      "execution_count": 99,
      "id": "4d11640e",
      "metadata": {
        "colab": {
          "base_uri": "https://localhost:8080/"
        },
        "id": "4d11640e",
        "outputId": "9444aa40-459a-44e9-cc89-e6a8bddc2389"
      },
      "outputs": [
        {
          "name": "stdout",
          "output_type": "stream",
          "text": [
            "Overall Gini index: 0.5\n"
          ]
        }
      ],
      "source": [
        "from collections import Counter\n",
        "\n",
        "# Define the dataset\n",
        "data = [\n",
        "    {\"Customer ID\": 1, \"Gender\": \"M\", \"Car Type\": \"Family\", \"Shirt Size\": \"Small\", \"Class\": \"C0\"},\n",
        "    {\"Customer ID\": 2, \"Gender\": \"M\", \"Car Type\": \"Sports\", \"Shirt Size\": \"Medium\", \"Class\": \"C0\"},\n",
        "    {\"Customer ID\": 3, \"Gender\": \"M\", \"Car Type\": \"Sports\", \"Shirt Size\": \"Medium\", \"Class\": \"C0\"},\n",
        "    {\"Customer ID\": 4, \"Gender\": \"M\", \"Car Type\": \"Sports\", \"Shirt Size\": \"Large\", \"Class\": \"C0\"},\n",
        "    {\"Customer ID\": 5, \"Gender\": \"M\", \"Car Type\": \"Sports\", \"Shirt Size\": \"Extra Large\", \"Class\": \"C0\"},\n",
        "    {\"Customer ID\": 6, \"Gender\": \"M\", \"Car Type\": \"Sports\", \"Shirt Size\": \"Extra Large\", \"Class\": \"C0\"},\n",
        "    {\"Customer ID\": 7, \"Gender\": \"F\", \"Car Type\": \"Sports\", \"Shirt Size\": \"Small\", \"Class\": \"C0\"},\n",
        "    {\"Customer ID\": 8, \"Gender\": \"F\", \"Car Type\": \"Sports\", \"Shirt Size\": \"Small\", \"Class\": \"C0\"},\n",
        "    {\"Customer ID\": 9, \"Gender\": \"F\", \"Car Type\": \"Sports\", \"Shirt Size\": \"Medium\", \"Class\": \"C0\"},\n",
        "    {\"Customer ID\": 10, \"Gender\": \"F\", \"Car Type\": \"Luxury\", \"Shirt Size\": \"Large\", \"Class\": \"C0\"},\n",
        "    {\"Customer ID\": 11, \"Gender\": \"M\", \"Car Type\": \"Family\", \"Shirt Size\": \"Large\", \"Class\": \"C1\"},\n",
        "    {\"Customer ID\": 12, \"Gender\": \"M\", \"Car Type\": \"Family\", \"Shirt Size\": \"Extra Large\", \"Class\": \"C1\"},\n",
        "    {\"Customer ID\": 13, \"Gender\": \"M\", \"Car Type\": \"Family\", \"Shirt Size\": \"Medium\", \"Class\": \"C1\"},\n",
        "    {\"Customer ID\": 14, \"Gender\": \"M\", \"Car Type\": \"Luxury\", \"Shirt Size\": \"Extra Large\", \"Class\": \"C1\"},\n",
        "    {\"Customer ID\": 15, \"Gender\": \"F\", \"Car Type\": \"Luxury\", \"Shirt Size\": \"Small\", \"Class\": \"C1\"},\n",
        "    {\"Customer ID\": 16, \"Gender\": \"F\", \"Car Type\": \"Luxury\", \"Shirt Size\": \"Small\", \"Class\": \"C1\"},\n",
        "    {\"Customer ID\": 17, \"Gender\": \"F\", \"Car Type\": \"Luxury\", \"Shirt Size\": \"Medium\", \"Class\": \"C1\"},\n",
        "    {\"Customer ID\": 18, \"Gender\": \"F\", \"Car Type\": \"Luxury\", \"Shirt Size\": \"Medium\", \"Class\": \"C1\"},\n",
        "    {\"Customer ID\": 19, \"Gender\": \"F\", \"Car Type\": \"Luxury\", \"Shirt Size\": \"Medium\", \"Class\": \"C1\"},\n",
        "    {\"Customer ID\": 20, \"Gender\": \"F\", \"Car Type\": \"Luxury\", \"Shirt Size\": \"Large\", \"Class\": \"C1\"}\n",
        "]\n",
        "\n",
        "# Function to compute Gini index\n",
        "def gini_index(labels):\n",
        "    total_count = len(labels)\n",
        "    class_counts = Counter(labels)\n",
        "    gini = 1.0\n",
        "    for class_label in class_counts:\n",
        "        class_prob = class_counts[class_label] / total_count\n",
        "        gini -= class_prob ** 2\n",
        "    return gini\n",
        "\n",
        "# Compute Gini index for the overall collection\n",
        "class_labels = [entry[\"Class\"] for entry in data]\n",
        "overall_gini = gini_index(class_labels)\n",
        "print(\"Overall Gini index:\", overall_gini)\n"
      ]
    },
    {
      "cell_type": "markdown",
      "id": "65e430d7",
      "metadata": {
        "id": "65e430d7"
      },
      "source": [
        "#### Question B"
      ]
    },
    {
      "cell_type": "code",
      "execution_count": 100,
      "id": "bui5fSpMIoGp",
      "metadata": {
        "id": "bui5fSpMIoGp"
      },
      "outputs": [],
      "source": [
        "# (b)\n",
        "# For each Customer ID there is no impurity , So Gini index is 0"
      ]
    },
    {
      "cell_type": "markdown",
      "id": "0e58159f",
      "metadata": {
        "id": "0e58159f"
      },
      "source": [
        "#### Question C"
      ]
    },
    {
      "cell_type": "code",
      "execution_count": 101,
      "id": "53d14495",
      "metadata": {
        "colab": {
          "base_uri": "https://localhost:8080/"
        },
        "id": "53d14495",
        "outputId": "610dd476-8d01-4869-e192-ab4fce30f3ae"
      },
      "outputs": [
        {
          "name": "stdout",
          "output_type": "stream",
          "text": [
            "0.48\n"
          ]
        }
      ],
      "source": [
        "#(c)\n",
        "n_instances = 20\n",
        "n_male = 10\n",
        "n_female = 10\n",
        "p_male = n_male / n_instances\n",
        "p_female = n_female / n_instances\n",
        "p_male_co = 6/n_male\n",
        "p_male_c1 = 4/n_male\n",
        "p_female_co = 4/n_female\n",
        "p_female_c1 = 6/n_female\n",
        "gini_male = 1 - (p_male_co ** 2  + p_male_c1 ** 2)\n",
        "gini_female = 1 - (p_female_co ** 2 + p_female_c1 ** 2)\n",
        "gender_gini_index = (p_male * gini_male) + (p_female * gini_female)\n",
        "print(gender_gini_index)"
      ]
    },
    {
      "cell_type": "markdown",
      "id": "372bb779",
      "metadata": {
        "id": "372bb779"
      },
      "source": [
        "#### Question D"
      ]
    },
    {
      "cell_type": "code",
      "execution_count": 102,
      "id": "21cd4862",
      "metadata": {
        "colab": {
          "base_uri": "https://localhost:8080/"
        },
        "id": "21cd4862",
        "outputId": "9be7a9b4-a50d-46c3-a462-d6f567af3bd0"
      },
      "outputs": [
        {
          "name": "stdout",
          "output_type": "stream",
          "text": [
            "Overall Gini index for Car Type (multiway split): 0.16250000000000003\n"
          ]
        }
      ],
      "source": [
        "num_instances = 20\n",
        "num_family = 4\n",
        "num_sports = 8\n",
        "num_luxury = 8\n",
        "prob_family = num_family / num_instances\n",
        "prob_sports = num_sports / num_instances\n",
        "prob_luxury = num_luxury / num_instances\n",
        "p_family_co = 1/num_family\n",
        "p_family_c1 = 3/num_family\n",
        "p_sports_co = 8/num_sports\n",
        "p_sports_c1 = 0/num_sports\n",
        "p_luxury_co = 1/num_luxury\n",
        "p_luxury_c1 = 7/num_luxury\n",
        "gini_family = 1 - (p_family_co ** 2  + p_family_c1 ** 2)\n",
        "gini_sports = 1 - (p_sports_co ** 2  + p_sports_c1 ** 2)\n",
        "gini_luxury = 1 - (p_luxury_co ** 2  + p_luxury_c1 ** 2)\n",
        "overall_gini_index = prob_family * gini_family + prob_sports * gini_sports + prob_luxury * gini_luxury\n",
        "print(\"Overall Gini index for Car Type (multiway split):\", overall_gini_index)"
      ]
    },
    {
      "cell_type": "markdown",
      "id": "15f93cf0",
      "metadata": {
        "id": "15f93cf0"
      },
      "source": [
        "#### Question E"
      ]
    },
    {
      "cell_type": "code",
      "execution_count": 103,
      "id": "e5757b1f",
      "metadata": {
        "colab": {
          "base_uri": "https://localhost:8080/"
        },
        "id": "e5757b1f",
        "outputId": "d3aa3e53-8cef-47e9-e7f7-406d296e1beb"
      },
      "outputs": [
        {
          "name": "stdout",
          "output_type": "stream",
          "text": [
            "0.49142857142857144\n"
          ]
        }
      ],
      "source": [
        "#(e)\n",
        "num_instances = 20\n",
        "num_small = 5\n",
        "num_medium = 7\n",
        "num_large = 4\n",
        "num_extra_large = 4\n",
        "\n",
        "prob_small = num_small / num_instances\n",
        "prob_medium = num_medium/ num_instances\n",
        "prob_large = num_large / num_instances\n",
        "prob_extra_large = num_extra_large/ num_instances\n",
        "\n",
        "p_small_co = 3/num_small\n",
        "p_small_c1 = 2/num_small\n",
        "\n",
        "p_medium_co = 3/num_medium\n",
        "p_medium_c1 = 4/num_medium\n",
        "\n",
        "p_large_co = 2/num_large\n",
        "p_large_c1 = 2/num_large\n",
        "\n",
        "p_extra_large_co = 2/num_extra_large\n",
        "p_extra_large_c1 = 2/num_extra_large\n",
        "\n",
        "gini_small = 1 - (p_small_co ** 2  + p_small_c1 ** 2)\n",
        "gini_medium = 1 - (p_medium_co ** 2  + p_medium_c1 ** 2)\n",
        "gini_large = 1 - (p_large_co ** 2  + p_large_c1 ** 2)\n",
        "gini_extra_large = 1 - (p_extra_large_co ** 2  + p_extra_large_c1 ** 2)\n",
        "\n",
        "overall_gini_index = prob_small * gini_small + prob_medium * gini_medium + prob_large * gini_large + prob_extra_large * gini_extra_large\n",
        "\n",
        "print(overall_gini_index)"
      ]
    },
    {
      "cell_type": "markdown",
      "id": "02865020",
      "metadata": {
        "id": "02865020"
      },
      "source": [
        "## Question 6"
      ]
    },
    {
      "cell_type": "code",
      "execution_count": 104,
      "id": "631b7024",
      "metadata": {
        "id": "631b7024"
      },
      "outputs": [],
      "source": [
        "def gini(prob):\n",
        "    gini_value = 0\n",
        "    for value in prob:\n",
        "        gini_value += value ** 2\n",
        "    return 1 - gini_value"
      ]
    },
    {
      "cell_type": "code",
      "execution_count": 105,
      "id": "ffd8c264",
      "metadata": {
        "colab": {
          "base_uri": "https://localhost:8080/"
        },
        "id": "ffd8c264",
        "outputId": "ba7e0f48-6bdd-4306-c214-45c12f84f025"
      },
      "outputs": [
        {
          "name": "stdout",
          "output_type": "stream",
          "text": [
            "Gini index for above x<0.5: 0\n",
            "Gini index for below x<0.5: 0.4992\n",
            "Weighted Gini index for x<0.5: 0.2496\n",
            "\n",
            "Gini index for above y<0.4: 0.48\n",
            "Gini index for below y<0.4: 0\n",
            "Weighted Gini index for y<0.4: 0.288\n",
            "\n",
            "Gini index for above y<0.4: 0.42000000000000004\n",
            "Gini index for below y<0.4: 0.33673469387755084\n",
            "Weighted Gini index for y<0.4: 0.36171428571428554\n",
            "\n",
            "Gini index for above x<0.2: 0.3487500000000001\n",
            "Gini index for below x<0.2: 0.41999999999999993\n",
            "Weighted Gini index for x<0.2: 0.3630000000000001\n"
          ]
        }
      ],
      "source": [
        "#(a)\n",
        "\n",
        "# For root node\n",
        "\n",
        "above_gini_x5 = gini([1, 0])\n",
        "below_gini_x5 = gini([0.26/0.5, 0.24/0.5])\n",
        "weighted_gini_index = 0.5 * below_gini_x5 + 0.5 * above_gini_x5\n",
        "\n",
        "above_gini_y4 = gini([0.36/0.6, 0.24/0.6])\n",
        "below_gini_y4 = gini([1])\n",
        "weighted_gini_index_y4 = 0.4 * below_gini_y4 + 0.6 * above_gini_y4\n",
        "\n",
        "\n",
        "above_gini_y7=gini([0.21/0.3,0.09/0.3])\n",
        "below_gini_y7=gini([0.55/0.7,0.15/0.7])\n",
        "weighted_gini_index_y7=0.7*below_gini_y7 + 0.3*above_gini_y7\n",
        "\n",
        "\n",
        "above_gini_x2=gini([0.62/0.8,0.18/0.8])\n",
        "below_gini_x2=gini([0.14/0.2,0.06/0.2])\n",
        "weighted_gini_index_x2=0.2*below_gini_x2 + 0.8*above_gini_x2\n",
        "\n",
        "\n",
        "\n",
        "print(\"Gini index for above x<0.5:\", above_gini_x5)\n",
        "print(\"Gini index for below x<0.5:\", below_gini_x5)\n",
        "print(\"Weighted Gini index for x<0.5:\", weighted_gini_index)\n",
        "print()\n",
        "print(\"Gini index for above y<0.4:\", above_gini_y4)\n",
        "print(\"Gini index for below y<0.4:\", below_gini_y4)\n",
        "print(\"Weighted Gini index for y<0.4:\", weighted_gini_index_y4)\n",
        "print()\n",
        "print(\"Gini index for above y<0.4:\", above_gini_y7)\n",
        "print(\"Gini index for below y<0.4:\", below_gini_y7)\n",
        "print(\"Weighted Gini index for y<0.4:\", weighted_gini_index_y7)\n",
        "print()\n",
        "print(\"Gini index for above x<0.2:\", above_gini_x2)\n",
        "print(\"Gini index for below x<0.2:\", below_gini_x2)\n",
        "print(\"Weighted Gini index for x<0.2:\", weighted_gini_index_x2)\n"
      ]
    },
    {
      "cell_type": "markdown",
      "id": "4wxY9CmcHMj0",
      "metadata": {
        "id": "4wxY9CmcHMj0"
      },
      "source": [
        "Root node will be x<=0.5"
      ]
    },
    {
      "cell_type": "code",
      "execution_count": 106,
      "id": "eba0e391",
      "metadata": {
        "colab": {
          "base_uri": "https://localhost:8080/"
        },
        "id": "eba0e391",
        "outputId": "4823d6b7-c97b-4f0b-a241-107da3313570",
        "scrolled": true
      },
      "outputs": [
        {
          "name": "stdout",
          "output_type": "stream",
          "text": [
            "Weighted Gini index for y<0.4 and x<0.5: 0.1919999999999999\n",
            "Gini index for less y<0.4 and x<0.5: 0\n",
            "Gini index for above y<0.4 and x<0.5: 0.31999999999999984\n",
            "\n",
            "Weighted Gini index for y<0.7 and x<0.5: 0.44399999999999995\n",
            "Gini index for above y<0.7 and x<0.5: 0.48\n",
            "Gini index for less y<0.7 and x<0.5: 0.4897959183673468\n",
            "\n",
            "Gini index for x > 0.5: 0.41999999999999993\n",
            "Gini index for x <= 0.5: 0.48\n",
            "Weighted Gini index for y > 0.7, x <= 0.5: 0.44399999999999995\n"
          ]
        }
      ],
      "source": [
        "above_gini_y4_lx5 = gini([0.06/0.3, 0.24/0.3])\n",
        "below_gini_y4_lx5 = gini([1, 0])\n",
        "weighted_gini_y4_lx5 = (0.3/0.5) * above_gini_y4_lx5\n",
        "\n",
        "\n",
        "above_gini_y7_lx5 = gini([0.06/0.15, 0.09/0.15])\n",
        "below_gini_y7_lx5 = gini([0.2/0.35, 0.15/0.35])\n",
        "weighted_gini_y7_lx5 = (0.15/0.5) * above_gini_y7_lx5 + (0.35/0.5) * below_gini_y7_lx5\n",
        "\n",
        "\n",
        "above_gini_x2_lx5 = gini([0.14/0.2, 0.06/0.2])\n",
        "below_gini_x2_lx5 = gini([0.12/0.3, 0.18/0.3])\n",
        "weighted_gini_y7_lx5 = (0.3/0.5) * above_gini_x2_lx5 + (0.2/0.5) * below_gini_x2_lx5\n",
        "\n",
        "\n",
        "\n",
        "\n",
        "print(\"Weighted Gini index for y<0.4 and x<0.5:\", weighted_gini_y4_lx5)\n",
        "print(\"Gini index for less y<0.4 and x<0.5:\", below_gini_y4_lx5)\n",
        "print(\"Gini index for above y<0.4 and x<0.5:\", above_gini_y4_lx5)\n",
        "print()\n",
        "print(\"Weighted Gini index for y<0.7 and x<0.5:\", weighted_gini_y7_lx5)\n",
        "print(\"Gini index for above y<0.7 and x<0.5:\", above_gini_y7_lx5)\n",
        "print(\"Gini index for less y<0.7 and x<0.5:\", below_gini_y7_lx5)\n",
        "print()\n",
        "print(\"Gini index for x > 0.5:\", above_gini_x2_lx5)\n",
        "print(\"Gini index for x <= 0.5:\", below_gini_x2_lx5)\n",
        "print(\"Weighted Gini index for y > 0.7, x <= 0.5:\", weighted_gini_y7_lx5)"
      ]
    },
    {
      "cell_type": "markdown",
      "id": "3429174c",
      "metadata": {
        "id": "3429174c"
      },
      "source": [
        "Left node will be y<=0.4"
      ]
    },
    {
      "cell_type": "code",
      "execution_count": 107,
      "id": "9ef5ec6b",
      "metadata": {
        "colab": {
          "base_uri": "https://localhost:8080/"
        },
        "id": "9ef5ec6b",
        "outputId": "2e8dbaa4-1dee-4a82-f269-a8147b159b01"
      },
      "outputs": [
        {
          "name": "stdout",
          "output_type": "stream",
          "text": [
            "Gini index for y > 0.7: 0.0\n",
            "Gini index for y <= 0.7: 0.0\n",
            "Weighted Gini index for y > 0.7, x > 0.5: 0.0\n",
            "\n",
            "Gini index for x > 0.5: 0.0\n",
            "Gini index for x <= 0.5: 1\n",
            "Weighted Gini index for x > 0.5, x > 0.5: 0.0\n"
          ]
        }
      ],
      "source": [
        "# Level 2 right\n",
        "\n",
        "\n",
        "\n",
        "above_y7 = gini([0.15/0.15, 0/0.15])\n",
        "below_y7 = gini([0.35/0.35, 0/0.35])\n",
        "weighted_gini_y7_gx5 = (0.15/0.5) * above_y7 + (0.35/0.5) * below_y7\n",
        "\n",
        "\n",
        "above_x2 = gini([0.5/0.5, 0])\n",
        "below_x2 = gini([0, 0])\n",
        "weighted_gini_x2_gx5 = 0 * below_x2 + above_x2 * (0.5/0.5)\n",
        "\n",
        "print(\"Gini index for y > 0.7:\", above_y7)\n",
        "print(\"Gini index for y <= 0.7:\", below_y7)\n",
        "print(\"Weighted Gini index for y > 0.7, x > 0.5:\", weighted_gini_y7_gx5)\n",
        "\n",
        "print()\n",
        "\n",
        "\n",
        "# Print results\n",
        "print(\"Gini index for x > 0.5:\", above_x2)\n",
        "print(\"Gini index for x <= 0.5:\", below_x2)\n",
        "print(\"Weighted Gini index for x > 0.5, x > 0.5:\", weighted_gini_x2_gx5)\n",
        "\n",
        "\n"
      ]
    },
    {
      "cell_type": "code",
      "execution_count": 108,
      "id": "99f351e4",
      "metadata": {
        "colab": {
          "base_uri": "https://localhost:8080/"
        },
        "id": "99f351e4",
        "outputId": "e69c5e4a-ba28-4dc5-a92f-0f057d284604"
      },
      "outputs": [
        {
          "name": "stdout",
          "output_type": "stream",
          "text": [
            "0.06\n"
          ]
        }
      ],
      "source": [
        "#(b)\n",
        "\n",
        "# Missclassification X coordinates = 0 to 0.2\n",
        "# Missclassification Y coordinates = 0.7 to 1.0\n",
        "\n",
        "error = 0.2*0.3\n",
        "print(error)\n"
      ]
    },
    {
      "cell_type": "markdown",
      "id": "fdb46ba6",
      "metadata": {
        "id": "fdb46ba6"
      },
      "source": [
        "### Rightnode will be A"
      ]
    },
    {
      "cell_type": "markdown",
      "id": "lM4H6YYWHwqS",
      "metadata": {
        "id": "lM4H6YYWHwqS"
      },
      "source": [
        "Question 7"
      ]
    },
    {
      "cell_type": "code",
      "execution_count": 109,
      "id": "8af085a7",
      "metadata": {
        "colab": {
          "base_uri": "https://localhost:8080/"
        },
        "id": "8af085a7",
        "outputId": "f011ebe3-6be4-48be-8c16-9861a268c686"
      },
      "outputs": [
        {
          "name": "stdout",
          "output_type": "stream",
          "text": [
            "1.0\n"
          ]
        }
      ],
      "source": [
        "#a)\n",
        "\n",
        "import math\n",
        "\n",
        "total_instances = 20\n",
        "positive_instances = 10\n",
        "negative_instances = 10\n",
        "\n",
        "p_positive_before = positive_instances / total_instances\n",
        "p_negative_before = negative_instances / total_instances\n",
        "\n",
        "entropy_before = -((p_positive_before * math.log2(p_positive_before)) + (p_negative_before * math.log2(p_negative_before)))\n",
        "\n",
        "entropy_after = 0\n",
        "\n",
        "information_gain = entropy_before - entropy_after\n",
        "\n",
        "print(information_gain)"
      ]
    },
    {
      "cell_type": "code",
      "execution_count": 110,
      "id": "06d8df22",
      "metadata": {
        "colab": {
          "base_uri": "https://localhost:8080/"
        },
        "id": "06d8df22",
        "outputId": "48a7ff69-254d-4a6c-f2ea-b5e776c30292"
      },
      "outputs": [
        {
          "name": "stdout",
          "output_type": "stream",
          "text": [
            "0.5310044064107188\n"
          ]
        }
      ],
      "source": [
        "#b)\n",
        "\n",
        "import math\n",
        "total_instances = 20\n",
        "positive_left = 9\n",
        "negative_left = 1\n",
        "positive_right = 1\n",
        "negative_right = 9\n",
        "\n",
        "p_positive_before = (positive_left + positive_right) / total_instances\n",
        "p_negative_before = (negative_left + negative_right) / total_instances\n",
        "\n",
        "entropy_before = -((p_positive_before * math.log2(p_positive_before)) + (p_negative_before * math.log2(p_negative_before)))\n",
        "\n",
        "n_left = positive_left + negative_left\n",
        "n_right = positive_right + negative_right\n",
        "p_left = n_left / total_instances\n",
        "p_right = n_right / total_instances\n",
        "\n",
        "entropy_left = -((positive_left / n_left * math.log2(positive_left / n_left)) + (negative_left / n_left * math.log2(negative_left / n_left)))\n",
        "entropy_right = -((positive_right / n_right * math.log2(positive_right / n_right)) + (negative_right / n_right * math.log2(negative_right / n_right)))\n",
        "\n",
        "information_gain = entropy_before - (p_left * entropy_left + p_right * entropy_right)\n",
        "\n",
        "print(information_gain)"
      ]
    },
    {
      "cell_type": "code",
      "execution_count": 111,
      "id": "86b5064d",
      "metadata": {
        "colab": {
          "base_uri": "https://localhost:8080/"
        },
        "id": "86b5064d",
        "outputId": "96c0a8af-0117-4d14-ca5e-fa417191718d"
      },
      "outputs": [
        {
          "name": "stdout",
          "output_type": "stream",
          "text": [
            "Gain Ratio: 0.23137821315975915\n"
          ]
        }
      ],
      "source": [
        "#d)\n",
        "\n",
        "import math\n",
        "\n",
        "total_instances = 20\n",
        "positive_instances = 10\n",
        "negative_instances = 10\n",
        "num_unique_ids = 20\n",
        "\n",
        "p_positive = positive_instances / total_instances\n",
        "p_negative = negative_instances / total_instances\n",
        "entropy_before_split = - (p_positive * math.log2(p_positive) + p_negative * math.log2(p_negative))\n",
        "\n",
        "\n",
        "entropy_after_split_weighted_avg = 0\n",
        "\n",
        "information_gain = entropy_before_split - entropy_after_split_weighted_avg\n",
        "\n",
        "split_information = - sum([(1 / num_unique_ids) * math.log2(1 / num_unique_ids) for _ in range(num_unique_ids)])\n",
        "\n",
        "gain_ratio = information_gain / split_information\n",
        "\n",
        "print(\"Gain Ratio:\", gain_ratio)"
      ]
    },
    {
      "cell_type": "code",
      "execution_count": 112,
      "id": "73ac0a6b",
      "metadata": {
        "colab": {
          "base_uri": "https://localhost:8080/"
        },
        "id": "73ac0a6b",
        "outputId": "bebdb69e-ff1b-45f9-f63c-bb9b06f05a30"
      },
      "outputs": [
        {
          "name": "stdout",
          "output_type": "stream",
          "text": [
            "Gain Ratio for Handedness: 0.5310044064107188\n"
          ]
        }
      ],
      "source": [
        "#e)\n",
        "\n",
        "import math\n",
        "total_instances = 20\n",
        "positive_left = 9\n",
        "negative_left = 1\n",
        "positive_right = 1\n",
        "negative_right = 9\n",
        "\n",
        "p_positive = (positive_left + positive_right) / total_instances\n",
        "p_negative = (negative_left + negative_right) / total_instances\n",
        "entropy_before_split = - (p_positive * math.log2(p_positive) + p_negative * math.log2(p_negative))\n",
        "\n",
        "p_positive_left = positive_left / (positive_left + negative_left)\n",
        "p_negative_left = negative_left / (positive_left + negative_left)\n",
        "entropy_left = - (p_positive_left * math.log2(p_positive_left) + p_negative_left * math.log2(p_negative_left))\n",
        "\n",
        "p_positive_right = positive_right / (positive_right + negative_right)\n",
        "p_negative_right = negative_right / (positive_right + negative_right)\n",
        "entropy_right = - (p_positive_right * math.log2(p_positive_right) + p_negative_right * math.log2(p_negative_right))\n",
        "\n",
        "entropy_after_split_weighted_avg = (positive_left + negative_left) / total_instances * entropy_left + (positive_right + negative_right) / total_instances * entropy_right\n",
        "\n",
        "split_information = - ((10 / 20) * math.log2(10 / 20) + (10 / 20) * math.log2(10 / 20))\n",
        "\n",
        "information_gain = entropy_before_split - entropy_after_split_weighted_avg\n",
        "gain_ratio = information_gain / split_information\n",
        "\n",
        "print(\"Gain Ratio for Handedness:\", gain_ratio)"
      ]
    }
  ],
  "metadata": {
    "colab": {
      "provenance": []
    },
    "kernelspec": {
      "display_name": "Python 3 (ipykernel)",
      "language": "python",
      "name": "python3"
    },
    "language_info": {
      "codemirror_mode": {
        "name": "ipython",
        "version": 3
      },
      "file_extension": ".py",
      "mimetype": "text/x-python",
      "name": "python",
      "nbconvert_exporter": "python",
      "pygments_lexer": "ipython3",
      "version": "3.11.4"
    }
  },
  "nbformat": 4,
  "nbformat_minor": 5
}
